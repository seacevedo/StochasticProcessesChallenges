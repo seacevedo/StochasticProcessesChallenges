{
 "cells": [
  {
   "cell_type": "markdown",
   "metadata": {},
   "source": [
    "# Homework #4"
   ]
  },
  {
   "cell_type": "markdown",
   "metadata": {},
   "source": [
    "## Question 1"
   ]
  },
  {
   "cell_type": "markdown",
   "metadata": {},
   "source": [
    "A man has two sons, and he would like them to cooperate. Therefore, in his will it states\n",
    "that the two sons must each specify a sum of money, $s_1$ and $s_2$, that they are willing to\n",
    "accept for inheritance when he dies. The value of his estate is 1,000,000 USD.\n",
    "\n",
    "If $s_1 + s_2$ ≤ 1,000,000, then each son gets the sum he asked for and the remainder (if any)\n",
    "goes to charity. If $s_1 + s_2$ > 1,000,000, then neither son receives any money and all the\n",
    "money goes to charity.\n",
    "\n",
    "Find all the pure strategy Nash equilibria of the game assuming that the two men only care\n",
    "about their share of inheritance, they do not talk to each other, and can only ask for integer\n",
    "amounts."
   ]
  },
  {
   "cell_type": "markdown",
   "metadata": {},
   "source": [
    "### Answer "
   ]
  },
  {
   "cell_type": "markdown",
   "metadata": {},
   "source": [
    "The nash equilibria in this game is any combination of actions between players such that $s_1 ≤ s_2$ or $s_2 ≤ s_1$, given that $s_1 + s_2$ = 1,000,000. For example, if $s_1$ = 200,000 and $s_2$ = 800,000, these actions are best reponses to each other because neither brother has any incentive of deviating from their bids. If they increase their bids by just 1 dollar, they receive nothing. This would also be the case if $s_1$ = 800,000 and $s_2$ = 200,000. Another nash equilibria would be if $s_1$ and $s_2$ = 500,000, as each brother would receive half and would not have the incentive to increase their bids, otherwise they would receive nothing. Actions in which $s_1 ≤ s_2$ or $s_2 ≤ s_1$, given that $s_1 + s_2  \\neq$ 1,000,000 are not nash equilibria because players can always improve their odds by increasing their bid. For example, if each brother asked for $s_1$ = 200 and $s_2$ = 100, each brother can increase their bid and receive a larger payoff."
   ]
  },
  {
   "cell_type": "markdown",
   "metadata": {},
   "source": [
    "## Question 2"
   ]
  },
  {
   "cell_type": "markdown",
   "metadata": {},
   "source": [
    "This is a problem about the iterated Prisoner’s Dilemma. First go over here\n",
    "https://ncase.me/trust/\n",
    "to see a nice illustration of different strategies. We will assume\n",
    "that the payoff matrix on a single round is given by $R$ to each player for mutual cooperation,\n",
    "$P$ to each player for mutual defection. In the case only one player cheats then the reward is\n",
    "$T$ to the cheating player, and $S$ to the cooperating player. We assume $T > R > P > S$.\n",
    "Note that this is a bit more general than the payoff matrix discussed by Dr. Stewart. We\n",
    "will extend this payoff matrix to multiple rounds."
   ]
  },
  {
   "cell_type": "markdown",
   "metadata": {},
   "source": [
    "(a) First consider two strategies GRIM, and ALLD. GRIM cooperates on the first move and\n",
    "then cooperates as long as the opponent does not defect (cheat). Once the opponent\n",
    "defects, GRIM will always defect afterward. Suppose that two opponents play the game repeatedly for $m$\n",
    "rounds. Compute the payoff matrix of GRIM vs ALLD after $m$\n",
    "rounds (for example you should find that the payoff to ALLD playing against GRIM after $m$ rounds is $T + (m−1)P$.\n"
   ]
  },
  {
   "cell_type": "markdown",
   "metadata": {},
   "source": [
    "### Answer"
   ]
  },
  {
   "cell_type": "markdown",
   "metadata": {},
   "source": [
    "$\\newcommand\\T{\\Rule{0pt}{1em}{.3em}}\n",
    "\\begin{array}{|c|c|}\n",
    " \\hline\n",
    " & GRIM & ALLD \\\\\\hline\n",
    " GRIM &  Rm \\T & S + (m-1)P \\\\\\hline\n",
    " ALLD & T + (m-1)P \\T & Pm \\\\\\hline\n",
    "\\end{array}$"
   ]
  },
  {
   "cell_type": "markdown",
   "metadata": {},
   "source": [
    "(b) Based on your answer show that GRIM is stable against invasion by ALLD if\n",
    "\n",
    "$$\n",
    "\\begin{align*} \n",
    "m > \\frac{T - P}{R - P}\n",
    "\\end{align*}\n",
    "$$"
   ]
  },
  {
   "cell_type": "markdown",
   "metadata": {},
   "source": [
    "### Answer"
   ]
  },
  {
   "cell_type": "markdown",
   "metadata": {},
   "source": [
    "GRIM is and ESS if:\n",
    "\n",
    "$$\n",
    "\\begin{align*} \n",
    "\\\\~\\\\\n",
    "E(GRIM, GRIM) > E(ALLD, GRIM)\n",
    "\\\\~\\\\\n",
    "\\end{align*}\n",
    "$$\n",
    "\n",
    "Which we can calculate using our payoff matrix. Therefore $E(GRIM, GRIM) = Rm$ and $E(ALLD, GRIM) = T + (m - 1)P$:\n",
    "\n",
    "\n",
    "$$\n",
    "\\begin{align*}\n",
    "\\\\~\\\\\n",
    "Rm > T + (m - 1)P\n",
    "\\\\~\\\\\n",
    "\\end{align*}\n",
    "$$\n",
    "\n",
    "Rearranging terms, we can show that GRIM is an ESS:\n",
    "\n",
    "$$\n",
    "\\begin{align*} \n",
    "Rm > T + (m - 1)P \\\\~\\\\\n",
    "Rm > T + Pm - P \\\\~\\\\\n",
    "Rm - Pm > T - P \\\\~\\\\\n",
    "m(R - P) > T - P \\\\~\\\\\n",
    "\\frac{m(R - P)}{R - P} > \\frac{T - P}{R - P} \\\\~\\\\\n",
    "m > \\frac{T - P}{R - P}\n",
    "\\end{align*}\n",
    "$$"
   ]
  },
  {
   "cell_type": "markdown",
   "metadata": {},
   "source": [
    "(c) If you know the number of rounds that you play, and you know your opponent will\n",
    "cooperate on the last round, then it is best for you to defect on that round. Therefore,\n",
    "let’s introduce a new strategy GRIM* which is the same as GRIM, but always defects\n",
    "on the last round. Compute the payoff matrix for GRIM* vs GRIM, and conclude that\n",
    "GRIM* dominates GRIM."
   ]
  },
  {
   "cell_type": "markdown",
   "metadata": {},
   "source": [
    "### Answer"
   ]
  },
  {
   "cell_type": "markdown",
   "metadata": {},
   "source": [
    "$\\newcommand\\T{\\Rule{0pt}{1em}{.3em}}\n",
    "\\begin{array}{|c|c|}\n",
    " \\hline\n",
    " & GRIM* & GRIM \\\\\\hline\n",
    " GRIM* &  R(m - 1) + P \\T & R(m - 1) + T \\\\\\hline\n",
    " GRIM & R(m - 1) + S \\T & Rm \\\\\\hline\n",
    "\\end{array}$"
   ]
  },
  {
   "cell_type": "markdown",
   "metadata": {},
   "source": [
    "GRIM* is an ESS if:\n",
    "\n",
    "$$\n",
    "\\begin{align*} \n",
    "\\\\~\\\\\n",
    "E(GRIM*, GRIM*) > E(GRIM, GRIM*)\n",
    "\\\\~\\\\\n",
    "\\end{align*}\n",
    "$$\n",
    "\n",
    "Which we can calculate using our payoff matrix. Therefore $E(GRIM*, GRIM*) = R(m - 1) + P$ and $E(GRIM, GRIM*) = R(m - 1) + S$:\n",
    "\n",
    "\n",
    "$$\n",
    "\\begin{align*}\n",
    "\\\\~\\\\\n",
    "R(m - 1) + P > R(m - 1) + S\n",
    "\\\\~\\\\\n",
    "\\end{align*}\n",
    "$$\n",
    "\n",
    "Rearranging terms, we can show that GRIM* is an ESS:\n",
    "\n",
    "$$\n",
    "\\begin{align*} \n",
    "\\require{cancel} \\cancel{R(m - 1)} + P > \\require{cancel} \\cancel{R(m - 1)}  + S \\\\~\\\\\n",
    "P > S \\\\~\\\\\n",
    "\\end{align*}\n",
    "$$\n",
    "\n",
    "Which is true since we initially assumed $P > S$."
   ]
  },
  {
   "cell_type": "markdown",
   "metadata": {},
   "source": [
    "(d) Once everyone uses $GRIM*$, then everyone is bound to get $P$ on the last round. However, now there is no reason to cooperate on the second to last round. Use the same argument as above to find a strategy that dominates against $GRIM*$."
   ]
  },
  {
   "cell_type": "markdown",
   "metadata": {},
   "source": [
    "### Answer"
   ]
  },
  {
   "cell_type": "markdown",
   "metadata": {},
   "source": [
    "$\\newcommand\\T{\\Rule{0pt}{1em}{.3em}}\n",
    "\\begin{array}{|c|c|}\n",
    " \\hline\n",
    " & GRIM** & GRIM* \\\\\\hline\n",
    " GRIM** &  R(m - 2) + 2P \\T & R(m - 2) + T + P \\\\\\hline\n",
    " GRIM* & R(m - 2) + S + P \\T & R(m - 1) + P\\\\\\hline\n",
    "\\end{array}$"
   ]
  },
  {
   "cell_type": "markdown",
   "metadata": {},
   "source": [
    "GRIM* is an ESS if:\n",
    "\n",
    "$$\n",
    "\\begin{align*} \n",
    "\\\\~\\\\\n",
    "E(GRIM**, GRIM**) > E(GRIM*, GRIM**)\n",
    "\\\\~\\\\\n",
    "\\end{align*}\n",
    "$$\n",
    "\n",
    "Which we can calculate using our payoff matrix. Therefore $E(GRIM**, GRIM**) = R(m - 2) + 2P$ and $E(GRIM*, GRIM**) = R(m - 2) + S + P$:\n",
    "\n",
    "\n",
    "$$\n",
    "\\begin{align*}\n",
    "\\\\~\\\\\n",
    "R(m - 2) + 2P > R(m - 2) + S + P\n",
    "\\\\~\\\\\n",
    "\\end{align*}\n",
    "$$\n",
    "\n",
    "Rearranging terms, we can show that GRIM** is an ESS:\n",
    "\n",
    "$$\n",
    "\\begin{align*} \n",
    "\\require{cancel} \\cancel{R(m - 2)} + 2P > \\require{cancel} \\cancel{R(m - 2)} + S + P \\\\~\\\\\n",
    "2P > S + P \\\\~\\\\\n",
    "2P - P > S \\\\~\\\\\n",
    "P > S \\\\~\\\\\n",
    "\\end{align*}\n",
    "$$\n",
    "\n",
    "Which is true since we initially assumed $P > S$."
   ]
  },
  {
   "cell_type": "markdown",
   "metadata": {},
   "source": [
    "(e) If you continue this argument what strategy will you arrive at?"
   ]
  },
  {
   "cell_type": "markdown",
   "metadata": {},
   "source": [
    "We would arrive at ALLD. To see this, let us use the follwing general payoff matrix that describes any strategy that knows that their opponent will cooperate $n$ rounds from the end of the game:\n",
    "\n",
    "$\\newcommand\\T{\\Rule{0pt}{1em}{.3em}}\n",
    "\\begin{array}{|c|c|}\n",
    " \\hline\n",
    " & GRIM^{n} & GRIM^{n-1} \\\\\\hline\n",
    " GRIM^{n} &  R(m - n) + nP \\T & R(m - n) + T + (n-1)P \\\\\\hline\n",
    " GRIM^{n-1} & R(m - n) + S + (n-1)P \\T & R(m - (n - 1)) + (n-1)P\\\\\\hline\n",
    "\\end{array}$\n",
    "\n",
    "If we compare two strategies, $GRIM^{m}$ and $GRIM^{m-1}$, which defect at all rounds and all rounds expect the first, respectively, we get the following payoff matrix:\n",
    "\n",
    "$\\newcommand\\T{\\Rule{0pt}{1em}{.3em}}\n",
    "\\begin{array}{|c|c|}\n",
    " \\hline\n",
    " & GRIM^{m} & GRIM^{m-1} \\\\\\hline\n",
    " GRIM^{m} &  Pm \\T & T + (m - 1)P \\\\\\hline\n",
    " GRIM^{m-1} & S + (m - 1)P \\T & (m-1)P + R\\\\\\hline\n",
    "\\end{array}$\n",
    "\n",
    "$GRIM^{m}$ is an ESS if:\n",
    "\n",
    "$$\n",
    "\\begin{align*} \n",
    "\\\\~\\\\\n",
    "E(GRIM^{m}, GRIM^{m}) > E(GRIM^{m - 1}, GRIM^{m})\n",
    "\\\\~\\\\\n",
    "\\end{align*}\n",
    "$$\n",
    "\n",
    "Which we can calculate using our payoff matrix. Therefore $E(GRIM^{m}, GRIM^{m}) = Pm$ and $E(GRIM^{m - 1}, GRIM^{m}) = S + (m - 1)P$:\n",
    "\n",
    "\n",
    "$$\n",
    "\\begin{align*}\n",
    "\\\\~\\\\\n",
    "Pm > S + (m - 1)P\n",
    "\\\\~\\\\\n",
    "\\end{align*}\n",
    "$$\n",
    "\n",
    "Rearranging terms, we can show that GRIM** is an ESS:\n",
    "\n",
    "$$\n",
    "\\begin{align*} \n",
    "Pm > S + (m - 1)P \\\\~\\\\\n",
    "\\require{cancel} \\cancel{Pm} > S + \\require{cancel} \\cancel{Pm} - P \\\\~\\\\\n",
    "P > S \\\\~\\\\\n",
    "\\end{align*}\n",
    "$$\n",
    "\n",
    "Which is true since we initially assumed $P > S$. Since $GRIM^{m}$ is equivalent to ALLD, we can say that ALLD is an ESS if a player knows that their opponent will cooperate in every round."
   ]
  },
  {
   "cell_type": "markdown",
   "metadata": {},
   "source": [
    "### Question 3"
   ]
  },
  {
   "cell_type": "markdown",
   "metadata": {},
   "source": [
    "In some cases a more realistic scenario than a repeated game that occurs exactly $m$ times, with $m$\n",
    "known to both players, is a scenario in which there is a probability, $\\delta$, of the game continuing after each round."
   ]
  },
  {
   "cell_type": "markdown",
   "metadata": {},
   "source": [
    "(a) Show that the expected number of rounds played in this way is $\\langle m \\rangle =  1 + \\frac{\\delta}{1 - \n",
    "\\delta}$"
   ]
  },
  {
   "cell_type": "markdown",
   "metadata": {},
   "source": [
    "### Answer"
   ]
  },
  {
   "cell_type": "markdown",
   "metadata": {},
   "source": [
    "We can calculate the expected number of rounds in a game by calculating the expected value of the geometric distribution, which is the probability distribution of the number of failures until you get one success. However, we are interested in the probability distribution of the number of successes until our first failure (keep playing with probability $\\delta$ until the game ends with probability $1 - \\delta$). Therefore, instead of considereing the probability of success, we need to consider the probability of failure, $1 - \\delta$, to obtain the expected number of rounds $m$.\n",
    "\n",
    "Using the definition of the expected value for the geometric distribution, we solve for the expected number of rounds:\n",
    "\n",
    "\n",
    "$$\n",
    "\\begin{align*} \n",
    "\\langle m \\rangle &= \\sum_{k}^{\\infty}{k(1 - \\delta)(1 - (1 - \\delta))^{k - 1}} \\\\~\\\\\n",
    "&= \\frac{(1 - \\delta)}{(1 - (1 - \\delta))} \\sum_{k}^{\\infty}{k(1 - (1 - \\delta))^{k}} \\\\~\\\\\n",
    "\\end{align*}\n",
    "$$\n",
    "\n",
    "Since, \n",
    "\n",
    "$$\n",
    "\\begin{align*} \n",
    "\\sum_{k}^{\\infty}{k(1 - (1 - \\delta))^{k}} = \\frac{(1 - (1 - \\delta))}{(1 - (1 - (1 - \\delta)))^{2}}\n",
    "\\end{align*}\n",
    "$$\n",
    "\n",
    "$$\n",
    "\\begin{align*} \n",
    "&= \\frac{(1 - \\delta)}{\\require{cancel} \\cancel{(1 - (1 - \\delta))}} \\frac{\\require{cancel} \\cancel{(1 - (1 - \\delta))}}{(1 - (1 - (1 - \\delta)))^{2}} \\\\~\\\\\n",
    "&= \\frac{(1 - \\delta)}{(1 - \\delta)^{2}} \\\\~\\\\\n",
    "&= \\frac{1}{1 - \\delta}\n",
    "\\end{align*}\n",
    "$$\n",
    "\n",
    "Which is equivalent to \n",
    "\n",
    "$$\n",
    "\\begin{align*} \n",
    "\\langle m \\rangle &=  1 + \\frac{\\delta}{1 - \\delta} \\\\~\\\\\n",
    "&= \\frac{1 - \\delta}{1 - \\delta} + \\frac{\\delta}{1 - \\delta} \\\\~\\\\\n",
    "&= \\frac{1}{1 - \\delta}\n",
    "\\end{align*}\n",
    "$$"
   ]
  },
  {
   "cell_type": "markdown",
   "metadata": {},
   "source": [
    "(b) Now, sticking with the Prisoner’s Dilemma from question 2, consider a matchup between\n",
    "GRIM and ALLD. Write down the expected payoffs for GRIM vs ALLD, GRIM vs\n",
    "GRIM and ALLD vs ALLD."
   ]
  },
  {
   "cell_type": "markdown",
   "metadata": {},
   "source": [
    "### Answer"
   ]
  },
  {
   "cell_type": "markdown",
   "metadata": {},
   "source": [
    "$\\newcommand\\T{\\Rule{0pt}{1em}{.3em}}\n",
    "\\begin{array}{|c|c|}\n",
    " \\hline\n",
    " & GRIM & ALLD \\\\\\hline\n",
    " GRIM &  R(1 + \\frac{\\delta}{1 - \\delta}) \\T & S + (\\frac{\\delta}{1 - \\delta})P \\\\\\hline\n",
    " ALLD & T + (\\frac{\\delta}{1 - \\delta})P  \\T & P(1 + \\frac{\\delta}{1 - \\delta}) \\\\\\hline\n",
    "\\end{array}$"
   ]
  },
  {
   "cell_type": "markdown",
   "metadata": {},
   "source": [
    "(c) Show that GRIM is stable against ALLD provided\n",
    "\n",
    "$$\n",
    "\\begin{align*} \n",
    "\\delta > \\frac{T - R}{T - P}\n",
    "\\end{align*}\n",
    "$$"
   ]
  },
  {
   "cell_type": "markdown",
   "metadata": {},
   "source": [
    "### Answer"
   ]
  },
  {
   "cell_type": "markdown",
   "metadata": {},
   "source": [
    "GRIM is an ESS if:\n",
    "\n",
    "$$\n",
    "\\begin{align*} \n",
    "\\\\~\\\\\n",
    "E(GRIM, GRIM) > E(ALLD, GRIM)\n",
    "\\\\~\\\\\n",
    "\\end{align*}\n",
    "$$\n",
    "\n",
    "Which we can calculate using our payoff matrix. Therefore $E(GRIM, GRIM) = R(1 + \\frac{\\delta}{1 - \\delta})$ and $E(ALLD, GRIM) = T + (\\frac{\\delta}{1 - \\delta})P$:\n",
    "\n",
    "\n",
    "$$\n",
    "\\begin{align*}\n",
    "\\\\~\\\\\n",
    "R(1 + \\frac{\\delta}{1 - \\delta}) > T + (\\frac{\\delta}{1 - \\delta})P\n",
    "\\\\~\\\\\n",
    "\\end{align*}\n",
    "$$\n",
    "\n",
    "Rearranging terms, we can show that GRIM is an ESS:\n",
    "\n",
    "$$\n",
    "\\begin{align*} \n",
    "R(1 + \\frac{\\delta}{1 - \\delta}) > T + (\\frac{\\delta}{1 - \\delta})P \\\\~\\\\\n",
    "R + R(\\frac{\\delta}{1 - \\delta}) > T + (\\frac{\\delta}{1 - \\delta})P \\\\~\\\\\n",
    "R(\\frac{\\delta}{1 - \\delta}) - (\\frac{\\delta}{1 - \\delta})P  > T - R \\\\~\\\\\n",
    "\\frac{(R - P)\\delta}{1 - \\delta}  > T - R \\\\~\\\\\n",
    "(R - P)\\delta  > (T - R)(1 - \\delta) \\\\~\\\\\n",
    "R \\delta - P \\delta > T - R - T \\delta + R \\delta \\\\~\\\\\n",
    "T \\delta - P \\delta > T - R \\\\~\\\\\n",
    "(T - P)\\delta > T - R \\\\~\\\\\n",
    "\\delta > \\frac{T - R}{T - P} \\\\~\\\\\n",
    "\\end{align*}\n",
    "$$"
   ]
  },
  {
   "cell_type": "markdown",
   "metadata": {},
   "source": [
    "### Question 4"
   ]
  },
  {
   "cell_type": "markdown",
   "metadata": {},
   "source": [
    "Now consider an infinitely repeated game in which players make execution errors each round with probability $\\epsilon$. Sticking with the Prisoner’s Dilemma described in question 2, we will look at the behavior of three strategies: (i) Tit-for-Tat (TFT) which has strategy $p_T = \\{ 1 - \\epsilon, \\epsilon, 1 - \\epsilon, \\epsilon \\}$, (ii) GRIM which has strategy $p_G = \\{ 1 - \\epsilon, \\epsilon, \\epsilon, \\epsilon \\}$ \n",
    "and (iii) Always cooperate (ALLC) which has strategy $p_C = \\{ 1 - \\epsilon, 1 - \\epsilon, 1 - \\epsilon, 1- \\epsilon \\}$."
   ]
  },
  {
   "cell_type": "markdown",
   "metadata": {},
   "source": [
    "(a) Write down the the 6 transition matrices for the 6 pairwise matchups between these\n",
    "three strategies."
   ]
  },
  {
   "cell_type": "code",
   "execution_count": 1,
   "metadata": {},
   "outputs": [],
   "source": [
    "import numpy as np\n",
    "from scipy.linalg import eig\n",
    "from numpy.linalg import matrix_power\n",
    "import sympy as sm"
   ]
  },
  {
   "cell_type": "code",
   "execution_count": 2,
   "metadata": {},
   "outputs": [
    {
     "name": "stdout",
     "output_type": "stream",
     "text": [
      "TFT vs GRIM: \n"
     ]
    },
    {
     "data": {
      "text/latex": [
       "$\\displaystyle \\left[\\begin{matrix}\\left(1 - ε\\right)^{2} & ε \\left(1 - ε\\right) & ε \\left(1 - ε\\right) & ε^{2}\\\\ε^{2} & ε \\left(1 - ε\\right) & ε \\left(1 - ε\\right) & \\left(1 - ε\\right)^{2}\\\\ε \\left(1 - ε\\right) & \\left(1 - ε\\right)^{2} & ε^{2} & ε \\left(1 - ε\\right)\\\\ε^{2} & ε \\left(1 - ε\\right) & ε \\left(1 - ε\\right) & \\left(1 - ε\\right)^{2}\\end{matrix}\\right]$"
      ],
      "text/plain": [
       "Matrix([\n",
       "[(1 - ε)**2,  ε*(1 - ε), ε*(1 - ε),       ε**2],\n",
       "[      ε**2,  ε*(1 - ε), ε*(1 - ε), (1 - ε)**2],\n",
       "[ ε*(1 - ε), (1 - ε)**2,      ε**2,  ε*(1 - ε)],\n",
       "[      ε**2,  ε*(1 - ε), ε*(1 - ε), (1 - ε)**2]])"
      ]
     },
     "execution_count": 2,
     "metadata": {},
     "output_type": "execute_result"
    }
   ],
   "source": [
    "eps = sm.symbols('\\u03B5', negative=False)\n",
    "\n",
    "p = [1-eps, eps, 1-eps, eps]\n",
    "q = [1-eps, eps, eps, eps]\n",
    "\n",
    "print(\"TFT vs GRIM: \")\n",
    "\n",
    "sm.Matrix([[p[0]*q[0], p[0]*(1-q[0]), (1-p[0])*q[0], (1-p[0])*(1-q[0])],\n",
    "              [p[1]*q[2], p[1]*(1-q[2]), (1-p[1])*q[2], (1-p[1])*(1-q[2])],\n",
    "              [p[2]*q[1], p[2]*(1-q[1]), (1-p[2])*q[1], (1-p[2])*(1-q[1])],\n",
    "              [p[3]*q[3], p[3]*(1-q[3]), (1-p[3])*q[3], (1-p[3])*(1-q[3])]])"
   ]
  },
  {
   "cell_type": "code",
   "execution_count": 3,
   "metadata": {},
   "outputs": [
    {
     "name": "stdout",
     "output_type": "stream",
     "text": [
      "TFT vs ALLC: \n"
     ]
    },
    {
     "data": {
      "text/latex": [
       "$\\displaystyle \\left[\\begin{matrix}\\left(1 - ε\\right)^{2} & ε \\left(1 - ε\\right) & ε \\left(1 - ε\\right) & ε^{2}\\\\ε \\left(1 - ε\\right) & ε^{2} & \\left(1 - ε\\right)^{2} & ε \\left(1 - ε\\right)\\\\\\left(1 - ε\\right)^{2} & ε \\left(1 - ε\\right) & ε \\left(1 - ε\\right) & ε^{2}\\\\ε \\left(1 - ε\\right) & ε^{2} & \\left(1 - ε\\right)^{2} & ε \\left(1 - ε\\right)\\end{matrix}\\right]$"
      ],
      "text/plain": [
       "Matrix([\n",
       "[(1 - ε)**2, ε*(1 - ε),  ε*(1 - ε),      ε**2],\n",
       "[ ε*(1 - ε),      ε**2, (1 - ε)**2, ε*(1 - ε)],\n",
       "[(1 - ε)**2, ε*(1 - ε),  ε*(1 - ε),      ε**2],\n",
       "[ ε*(1 - ε),      ε**2, (1 - ε)**2, ε*(1 - ε)]])"
      ]
     },
     "execution_count": 3,
     "metadata": {},
     "output_type": "execute_result"
    }
   ],
   "source": [
    "eps = sm.symbols('\\u03B5', negative=False)\n",
    "\n",
    "p = [1-eps, eps, 1-eps, eps]\n",
    "q = [1-eps, 1-eps, 1-eps, 1-eps]\n",
    "\n",
    "print(\"TFT vs ALLC: \")\n",
    "\n",
    "sm.Matrix([[p[0]*q[0], p[0]*(1-q[0]), (1-p[0])*q[0], (1-p[0])*(1-q[0])],\n",
    "              [p[1]*q[2], p[1]*(1-q[2]), (1-p[1])*q[2], (1-p[1])*(1-q[2])],\n",
    "              [p[2]*q[1], p[2]*(1-q[1]), (1-p[2])*q[1], (1-p[2])*(1-q[1])],\n",
    "              [p[3]*q[3], p[3]*(1-q[3]), (1-p[3])*q[3], (1-p[3])*(1-q[3])]])"
   ]
  },
  {
   "cell_type": "code",
   "execution_count": 6,
   "metadata": {},
   "outputs": [
    {
     "name": "stdout",
     "output_type": "stream",
     "text": [
      "GRIM vs ALLC: \n"
     ]
    },
    {
     "data": {
      "text/latex": [
       "$\\displaystyle \\left[\\begin{matrix}\\left(1 - ε\\right)^{2} & ε \\left(1 - ε\\right) & ε \\left(1 - ε\\right) & ε^{2}\\\\ε \\left(1 - ε\\right) & ε^{2} & \\left(1 - ε\\right)^{2} & ε \\left(1 - ε\\right)\\\\ε \\left(1 - ε\\right) & ε^{2} & \\left(1 - ε\\right)^{2} & ε \\left(1 - ε\\right)\\\\ε \\left(1 - ε\\right) & ε^{2} & \\left(1 - ε\\right)^{2} & ε \\left(1 - ε\\right)\\end{matrix}\\right]$"
      ],
      "text/plain": [
       "Matrix([\n",
       "[(1 - ε)**2, ε*(1 - ε),  ε*(1 - ε),      ε**2],\n",
       "[ ε*(1 - ε),      ε**2, (1 - ε)**2, ε*(1 - ε)],\n",
       "[ ε*(1 - ε),      ε**2, (1 - ε)**2, ε*(1 - ε)],\n",
       "[ ε*(1 - ε),      ε**2, (1 - ε)**2, ε*(1 - ε)]])"
      ]
     },
     "execution_count": 6,
     "metadata": {},
     "output_type": "execute_result"
    }
   ],
   "source": [
    "eps = sm.symbols('\\u03B5', negative=False)\n",
    "\n",
    "p = [1-eps, eps, eps, eps]\n",
    "q = [1-eps, 1-eps, 1-eps, 1-eps]\n",
    "\n",
    "print(\"GRIM vs ALLC: \")\n",
    "\n",
    "sm.Matrix([[p[0]*q[0], p[0]*(1-q[0]), (1-p[0])*q[0], (1-p[0])*(1-q[0])],\n",
    "              [p[1]*q[2], p[1]*(1-q[2]), (1-p[1])*q[2], (1-p[1])*(1-q[2])],\n",
    "              [p[2]*q[1], p[2]*(1-q[1]), (1-p[2])*q[1], (1-p[2])*(1-q[1])],\n",
    "              [p[3]*q[3], p[3]*(1-q[3]), (1-p[3])*q[3], (1-p[3])*(1-q[3])]])"
   ]
  },
  {
   "cell_type": "code",
   "execution_count": 7,
   "metadata": {},
   "outputs": [
    {
     "name": "stdout",
     "output_type": "stream",
     "text": [
      "TFT vs TFT: \n"
     ]
    },
    {
     "data": {
      "text/latex": [
       "$\\displaystyle \\left[\\begin{matrix}\\left(1 - ε\\right)^{2} & ε \\left(1 - ε\\right) & ε \\left(1 - ε\\right) & ε^{2}\\\\ε \\left(1 - ε\\right) & ε^{2} & \\left(1 - ε\\right)^{2} & ε \\left(1 - ε\\right)\\\\ε \\left(1 - ε\\right) & \\left(1 - ε\\right)^{2} & ε^{2} & ε \\left(1 - ε\\right)\\\\ε^{2} & ε \\left(1 - ε\\right) & ε \\left(1 - ε\\right) & \\left(1 - ε\\right)^{2}\\end{matrix}\\right]$"
      ],
      "text/plain": [
       "Matrix([\n",
       "[(1 - ε)**2,  ε*(1 - ε),  ε*(1 - ε),       ε**2],\n",
       "[ ε*(1 - ε),       ε**2, (1 - ε)**2,  ε*(1 - ε)],\n",
       "[ ε*(1 - ε), (1 - ε)**2,       ε**2,  ε*(1 - ε)],\n",
       "[      ε**2,  ε*(1 - ε),  ε*(1 - ε), (1 - ε)**2]])"
      ]
     },
     "execution_count": 7,
     "metadata": {},
     "output_type": "execute_result"
    }
   ],
   "source": [
    "eps = sm.symbols('\\u03B5', negative=False)\n",
    "\n",
    "p = [1-eps, eps, 1-eps, eps]\n",
    "q = [1-eps, eps, 1-eps, eps]\n",
    "\n",
    "print(\"TFT vs TFT: \")\n",
    "\n",
    "sm.Matrix([[p[0]*q[0], p[0]*(1-q[0]), (1-p[0])*q[0], (1-p[0])*(1-q[0])],\n",
    "              [p[1]*q[2], p[1]*(1-q[2]), (1-p[1])*q[2], (1-p[1])*(1-q[2])],\n",
    "              [p[2]*q[1], p[2]*(1-q[1]), (1-p[2])*q[1], (1-p[2])*(1-q[1])],\n",
    "              [p[3]*q[3], p[3]*(1-q[3]), (1-p[3])*q[3], (1-p[3])*(1-q[3])]])"
   ]
  },
  {
   "cell_type": "code",
   "execution_count": 8,
   "metadata": {},
   "outputs": [
    {
     "name": "stdout",
     "output_type": "stream",
     "text": [
      "GRIM vs GRIM: \n"
     ]
    },
    {
     "data": {
      "text/latex": [
       "$\\displaystyle \\left[\\begin{matrix}\\left(1 - ε\\right)^{2} & ε \\left(1 - ε\\right) & ε \\left(1 - ε\\right) & ε^{2}\\\\ε^{2} & ε \\left(1 - ε\\right) & ε \\left(1 - ε\\right) & \\left(1 - ε\\right)^{2}\\\\ε^{2} & ε \\left(1 - ε\\right) & ε \\left(1 - ε\\right) & \\left(1 - ε\\right)^{2}\\\\ε^{2} & ε \\left(1 - ε\\right) & ε \\left(1 - ε\\right) & \\left(1 - ε\\right)^{2}\\end{matrix}\\right]$"
      ],
      "text/plain": [
       "Matrix([\n",
       "[(1 - ε)**2, ε*(1 - ε), ε*(1 - ε),       ε**2],\n",
       "[      ε**2, ε*(1 - ε), ε*(1 - ε), (1 - ε)**2],\n",
       "[      ε**2, ε*(1 - ε), ε*(1 - ε), (1 - ε)**2],\n",
       "[      ε**2, ε*(1 - ε), ε*(1 - ε), (1 - ε)**2]])"
      ]
     },
     "execution_count": 8,
     "metadata": {},
     "output_type": "execute_result"
    }
   ],
   "source": [
    "eps = sm.symbols('\\u03B5', negative=False)\n",
    "\n",
    "p = [1-eps, eps, eps, eps]\n",
    "q = [1-eps, eps, eps, eps]\n",
    "\n",
    "print(\"GRIM vs GRIM: \")\n",
    "\n",
    "sm.Matrix([[p[0]*q[0], p[0]*(1-q[0]), (1-p[0])*q[0], (1-p[0])*(1-q[0])],\n",
    "              [p[1]*q[2], p[1]*(1-q[2]), (1-p[1])*q[2], (1-p[1])*(1-q[2])],\n",
    "              [p[2]*q[1], p[2]*(1-q[1]), (1-p[2])*q[1], (1-p[2])*(1-q[1])],\n",
    "              [p[3]*q[3], p[3]*(1-q[3]), (1-p[3])*q[3], (1-p[3])*(1-q[3])]])"
   ]
  },
  {
   "cell_type": "code",
   "execution_count": 9,
   "metadata": {},
   "outputs": [
    {
     "name": "stdout",
     "output_type": "stream",
     "text": [
      "ALLC vs ALLC: \n"
     ]
    },
    {
     "data": {
      "text/latex": [
       "$\\displaystyle \\left[\\begin{matrix}\\left(1 - ε\\right)^{2} & ε \\left(1 - ε\\right) & ε \\left(1 - ε\\right) & ε^{2}\\\\\\left(1 - ε\\right)^{2} & ε \\left(1 - ε\\right) & ε \\left(1 - ε\\right) & ε^{2}\\\\\\left(1 - ε\\right)^{2} & ε \\left(1 - ε\\right) & ε \\left(1 - ε\\right) & ε^{2}\\\\\\left(1 - ε\\right)^{2} & ε \\left(1 - ε\\right) & ε \\left(1 - ε\\right) & ε^{2}\\end{matrix}\\right]$"
      ],
      "text/plain": [
       "Matrix([\n",
       "[(1 - ε)**2, ε*(1 - ε), ε*(1 - ε), ε**2],\n",
       "[(1 - ε)**2, ε*(1 - ε), ε*(1 - ε), ε**2],\n",
       "[(1 - ε)**2, ε*(1 - ε), ε*(1 - ε), ε**2],\n",
       "[(1 - ε)**2, ε*(1 - ε), ε*(1 - ε), ε**2]])"
      ]
     },
     "execution_count": 9,
     "metadata": {},
     "output_type": "execute_result"
    }
   ],
   "source": [
    "eps = sm.symbols('\\u03B5', negative=False)\n",
    "\n",
    "p = [1-eps, 1-eps, 1-eps, 1-eps]\n",
    "q = [1-eps, 1-eps, 1-eps, 1-eps]\n",
    "\n",
    "print(\"ALLC vs ALLC: \")\n",
    "\n",
    "sm.Matrix([[p[0]*q[0], p[0]*(1-q[0]), (1-p[0])*q[0], (1-p[0])*(1-q[0])],\n",
    "              [p[1]*q[2], p[1]*(1-q[2]), (1-p[1])*q[2], (1-p[1])*(1-q[2])],\n",
    "              [p[2]*q[1], p[2]*(1-q[1]), (1-p[2])*q[1], (1-p[2])*(1-q[1])],\n",
    "              [p[3]*q[3], p[3]*(1-q[3]), (1-p[3])*q[3], (1-p[3])*(1-q[3])]])"
   ]
  },
  {
   "cell_type": "markdown",
   "metadata": {},
   "source": [
    "(b) Calculate the stationary distribution for each of the 6 chains in terms of $\\epsilon$. Explain what happens in each case in the limit $\\epsilon \\to 0$."
   ]
  },
  {
   "cell_type": "markdown",
   "metadata": {},
   "source": [
    "$$\n",
    "\\begin{align*} \n",
    "TFT \\ vs \\ GRIM: \\pi = [\\frac{\\epsilon}{1 + 2\\epsilon}, -\\frac{2(-1 + \\epsilon)\\epsilon}{1 + 2\\epsilon}, \\frac{\\epsilon}{1 + 2\\epsilon}, -\\frac{3}{2} + \\epsilon + \\frac{5}{2 + 4\\epsilon}]. \\ if \\ \\epsilon \\to 0, \\ then \\ \\pi \\approx [0, 0, 0, 1] \\\\~\\\\\n",
    "TFT \\ vs \\ ALLC: \\pi = [1 + \\epsilon(-3 - 2(-2 + \\epsilon)\\epsilon), \\epsilon(1 + 2(-1 + \\epsilon)\\epsilon), 2(-1 + \\epsilon)^{2}\\epsilon, -2(-1 + \\epsilon)\\epsilon^{2}]. \\ if \\ \\epsilon \\to 0, \\ then \\ \\pi \\approx [1, 0, 0, 0] \\\\~\\\\\n",
    "GRIM \\ vs \\ ALLC: \\pi = [\\frac{-1 + \\epsilon}{-3 + 2\\epsilon}, \\frac{\\epsilon}{3 - 2\\epsilon}, \n",
    "-\\frac{2(-1 + \\epsilon)^{2}}{-3 + 2\\epsilon}, \\frac{2(-1 + \\epsilon)\\epsilon}{-3 + 2\\epsilon}]. \\ if \\ \\epsilon \\to 0, \\ then \\ \\pi \\approx [1/3, 0, 2/3, 0] \\\\~\\\\\n",
    "TFT \\ vs \\ TFT: \\pi = [1/4, 1/4, 1/4, 1/4]. \\ if \\ \\epsilon \\to 0, \\ then \\ \\pi = [1/4, 1/4, 1/4, 1/4] \\\\~\\\\\n",
    "GRIM \\ vs \\ GRIM: \\pi = [\\frac{\\epsilon}{2}, -(-1 + \\epsilon)\\epsilon, -(-1 + \\epsilon)\\epsilon, 1 - \\frac{5\\epsilon}{2} + 2\\epsilon^{2}]. \\ if \\ \\epsilon \\to 0, \\ then \\ \\pi \\approx [0, 0, 0, 1] \\\\~\\\\\n",
    "ALLC \\ vs \\ ALLC: \\pi = [(-1 + \\epsilon)^{2}, -(-1 + \\epsilon)\\epsilon, -(-1 + \\epsilon)\\epsilon, \\epsilon^{2}]. \\ if \\ \\epsilon \\to 0, \\ then \\ \\pi \\approx [1, 0, 0, 0]\n",
    "\\end{align*}\n",
    "$$"
   ]
  },
  {
   "cell_type": "markdown",
   "metadata": {},
   "source": [
    "TFT vs GRIM: If we assume an infinite game with an infinitesimally small probability of error $\\epsilon$, the absorbing state will be DD. Though the probability of TFT defecting may be small, once this event occurs, GRIM will defect forever, causing TFT to also defect every round. Hence, the infinitely iterated game becomes trapped in state DD. $$ \\\\ $$\n",
    "\n",
    "TFT vs ALLC: If we assume an infinite game with an infinitesimally small probability of error $\\epsilon$, the absorbing state will be CC. Since ALLC will almost always cooperate with probability ~1, TFT will also cooperate. Hence, the infinitely iterated game becomes trapped in state CC. $$ \\\\ $$\n",
    "\n",
    "GRIM vs ALLC: If we assume an infinite game with an infinitesimally small probability of error $\\epsilon$, the game will be in state CC 1/3 and DC 2/3 of the time, respectively. This occurs because if either both players defect or ALLC defects with some small probability $\\epsilon$, the game will enter the absoribing state DC, where GRIM will now almost always defect and ALLC will almost always cooperate with probability ~1. We can also enter the absorbing state CC from any other state, albeit with some small probability ~0. $$ \\\\ $$\n",
    "\n",
    "TFT vs TFT: If we assume an infinite game with an infinitesimally small probability of error $\\epsilon$, the probability of ending up in each state (CC, CD, DC, DD) is 1/4. This occurs because the game can end up in any of the four states, due to the nature of TFT. If one of the TFT players makes a mistake and defects, then the other player will will defect in the next round and and the other player will cooperate. If this occurs, both players will switch between cooperate or defect if mistakes continue to occur. Hence, the game can cycle through each state with probability 1/4. $$ \\\\ $$\n",
    "\n",
    "GRIM vs GRIM: If we assume an infinite game with an infinitesimally small probability of error $\\epsilon$, the absorbing state will be DD. Though the probability of either GRIM player defecting may be small, once this event occurs, the opposing GRIM player will defect forever, causing defection by both players every round. Hence, the infinitely iterated game becomes trapped in state DD. $$ \\\\ $$\n",
    "\n",
    "ALLC vs ALLC: If we assume an infinite game with an infinitesimally small probability of error $\\epsilon$, the absorbing state will be CC. Though either ALLC player can defect with some small probability, in almost every round they will both cooperate. Hence, the infinitely iterated game becomes trapped in state CC. $$ \\\\ $$"
   ]
  },
  {
   "cell_type": "markdown",
   "metadata": {},
   "source": [
    "(c) Use the stationary distribution in the limit $\\epsilon \\to$ 0 to calculate the payoffs for each\n",
    "strategy in each matchup."
   ]
  },
  {
   "cell_type": "markdown",
   "metadata": {},
   "source": [
    "$\\newcommand\\T{\\Rule{0pt}{1em}{.3em}}\n",
    "\\begin{array}{|c|c|}\n",
    " \\hline\n",
    " & TFT & GRIM & ALLC \\\\\\hline\n",
    " TFT &  1/4(T + R + P + S), 1/4(T + R + P + S) \\T & P, P \\T & R, R \\\\\\hline\n",
    " GRIM & P, P \\T & P, P \\T & \\frac{R}{3} + \\frac{2T}{3}, \\frac{R}{3} + \\frac{2S}{3}  \\\\\\hline\n",
    " ALLC & R, R \\T & \\frac{R}{3} + \\frac{2S}{3}, \\frac{R}{3} + \\frac{2T}{3} \\T & R, R  \\\\\\hline\n",
    "\\end{array}$"
   ]
  },
  {
   "cell_type": "markdown",
   "metadata": {},
   "source": [
    "(d) Are there any Nash equilibria for the Prisoner’s Dilemma if we limit players to only these three strategies and errors are vanishingly small, i.e. $\\epsilon \\to $ 0. Explain your answer."
   ]
  },
  {
   "cell_type": "markdown",
   "metadata": {},
   "source": [
    "We can find the nash equilibria by underlining the best responses of each player to their opponents strategy:"
   ]
  },
  {
   "cell_type": "markdown",
   "metadata": {},
   "source": [
    "$\\newcommand\\T{\\Rule{0pt}{1em}{.3em}}\n",
    "\\begin{array}{|c|c|}\n",
    " \\hline\n",
    " & TFT & GRIM & ALLC \\\\\\hline\n",
    " TFT &  1/4(T + R + P + S), 1/4(T + R + P + S) \\T & \\underline{P}, P \\T & R, \\underline{R} \\\\\\hline\n",
    " GRIM & P, \\underline{P} \\T & \\underline{P}, \\underline{P} \\T & \\underline{\\frac{R}{3} + \\frac{2T}{3}}, \\frac{R}{3} + \\frac{2S}{3}  \\\\\\hline\n",
    " ALLC & \\underline{R}, R \\T & \\frac{R}{3} + \\frac{2S}{3}, \\underline{\\frac{R}{3} + \\frac{2T}{3}} \\T & R, R  \\\\\\hline\n",
    "\\end{array}$"
   ]
  },
  {
   "cell_type": "markdown",
   "metadata": {},
   "source": [
    "We can see that the only nash equilibrium in this case is GRIM vs GRIM, as both strategies are best responses to each other. As such, it is best for both players not to deviate from GRIM. The reason for this may be GRIM's unforgiving nature: if one player defects, even by mistake, GRIM will always defect from then on. Therefore, a player may accumulate a higher payoff by simply defecting all the time, since P > S. This means cooperation is costly to a player because if their opponent keeps defecting their accumulated payoff will be smaller than if they had just defected as well. However, since $E(GRIM, GRIM) = E(TFT, GRIM)$, GRIM vs GRIM is a weak nash equilibrium."
   ]
  }
 ],
 "metadata": {
  "kernelspec": {
   "display_name": "Python 3",
   "language": "python",
   "name": "python3"
  },
  "language_info": {
   "codemirror_mode": {
    "name": "ipython",
    "version": 3
   },
   "file_extension": ".py",
   "mimetype": "text/x-python",
   "name": "python",
   "nbconvert_exporter": "python",
   "pygments_lexer": "ipython3",
   "version": "3.7.6"
  }
 },
 "nbformat": 4,
 "nbformat_minor": 4
}
