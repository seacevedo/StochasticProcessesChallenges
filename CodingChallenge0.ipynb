{
 "cells": [
  {
   "cell_type": "markdown",
   "metadata": {},
   "source": [
    "# Grouping Numbers In A List"
   ]
  },
  {
   "cell_type": "markdown",
   "metadata": {},
   "source": [
    "This solution uses the numpy library. The program creates a sequential array of numbers using a specified length, shuffles that array, and splits them into sub-arrays that are of equal size. If the array cannot be equally split, then one sub-array will be shorter than the rest."
   ]
  },
  {
   "cell_type": "code",
   "execution_count": 4,
   "metadata": {},
   "outputs": [
    {
     "data": {
      "text/plain": [
       "[array([17, 16, 12, 13, 11]),\n",
       " array([0, 3, 5, 9, 4]),\n",
       " array([10,  8,  2,  7,  6]),\n",
       " array([18,  1, 14, 15])]"
      ]
     },
     "execution_count": 4,
     "metadata": {},
     "output_type": "execute_result"
    }
   ],
   "source": [
    "import numpy as np\n",
    "\n",
    "def random_assignment(num_students, num_groups):\n",
    "    arr = np.arange(num_students)\n",
    "    np.random.shuffle(arr)\n",
    "    return np.array_split(arr, num_groups)\n",
    "\n",
    "num_students = 19\n",
    "groups = 4\n",
    "\n",
    "random_assignment(num_students, groups)"
   ]
  }
 ],
 "metadata": {
  "kernelspec": {
   "display_name": "Python 3",
   "language": "python",
   "name": "python3"
  },
  "language_info": {
   "codemirror_mode": {
    "name": "ipython",
    "version": 3
   },
   "file_extension": ".py",
   "mimetype": "text/x-python",
   "name": "python",
   "nbconvert_exporter": "python",
   "pygments_lexer": "ipython3",
   "version": "3.7.6"
  }
 },
 "nbformat": 4,
 "nbformat_minor": 4
}
