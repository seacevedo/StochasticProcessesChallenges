{
  "nbformat": 4,
  "nbformat_minor": 0,
  "metadata": {
    "colab": {
      "name": "RejectionSampling_CC_1.ipynb",
      "provenance": [],
      "collapsed_sections": []
    },
    "kernelspec": {
      "name": "python3",
      "display_name": "Python 3"
    }
  },
  "cells": [
    {
      "cell_type": "markdown",
      "metadata": {
        "id": "oKCcyTumsloK",
        "colab_type": "text"
      },
      "source": [
        "# Rejection Sampling\n",
        "\n",
        "The idea behind rejection sampling is to sample from a distribution of interest by sampling uniformally under its desnity function. This is useful if your distribution of interest is computationally intractable. \n",
        "\n",
        "More formally, suppose sampling from distribution f(x) is difficult. There must exist another distribution g(x) from which we can easily sample. To do this, we can reject samples that are outside of f(x) and accept those that are within its boundaries.\n",
        "\n",
        "The algorithm is as follows:\n",
        "\n",
        "1. Draw from $$U \\sim Uniform(0, 1)$$\n",
        "2. Draw from $$X \\sim g(x)$$\n",
        "3. If $$ U \\leq \\frac{f(x)}{c * g(x)}$$\n",
        "then accept the sample, otherwise reject it. \n",
        "\n",
        "The \"c\" constant here helps adjust the candidate distribution g(x) so it can enevelop f(x)."
      ]
    },
    {
      "cell_type": "markdown",
      "metadata": {
        "id": "H_TmpmZouKdA",
        "colab_type": "text"
      },
      "source": [
        "## Imports\n",
        "Our imports include the scipy library that contains the functions that define the density functions of both the uniform and beta distributions."
      ]
    },
    {
      "cell_type": "code",
      "metadata": {
        "id": "Jx8TD6mGvYc9",
        "colab_type": "code",
        "colab": {
          "base_uri": "https://localhost:8080/",
          "height": 71
        },
        "outputId": "ab50aa31-7b04-42fb-9c82-bc2013ff0ce2"
      },
      "source": [
        "import numpy as np\n",
        "from scipy.stats import beta as beta_dist\n",
        "from scipy.stats import uniform as uniform_dist\n",
        "from scipy.stats import uniform\n",
        "import matplotlib.pyplot as plt\n",
        "import seaborn as sns"
      ],
      "execution_count": 15,
      "outputs": [
        {
          "output_type": "stream",
          "text": [
            "/usr/local/lib/python3.6/dist-packages/statsmodels/tools/_testing.py:19: FutureWarning: pandas.util.testing is deprecated. Use the functions in the public API at pandas.testing instead.\n",
            "  import pandas.util.testing as tm\n"
          ],
          "name": "stderr"
        }
      ]
    },
    {
      "cell_type": "markdown",
      "metadata": {
        "id": "-uMHGXswuYSm",
        "colab_type": "text"
      },
      "source": [
        "## Code\n",
        "\n",
        "The code below uses the uniform distribution as our candidate g(x) to sample from the distribution of interest f(x). This code uses a variant of rejection sampling known as \"Empirical Supremum Rejection Sampling\", which interatively updates the constant C based on the ratio of f(x) and g(x)."
      ]
    },
    {
      "cell_type": "code",
      "metadata": {
        "id": "kixLuEEC3Vzj",
        "colab_type": "code",
        "colab": {}
      },
      "source": [
        "C = 2\n",
        "a = 0\n",
        "b = 1\n",
        "alpha = 2\n",
        "beta = 2\n",
        "\n",
        "samples = []\n",
        "\n",
        "for i in range(10000):\n",
        "    U = np.random.uniform(0, 1)\n",
        "    X = np.random.uniform(a, b)\n",
        "    interest_dist = beta_dist.pdf(X, alpha, beta)\n",
        "    candidate_dist = uniform_dist.pdf(X, a, b)\n",
        "    if U <= (interest_dist / (C * candidate_dist)):\n",
        "      samples.append(X)\n",
        "    C_next = max(C, interest_dist / candidate_dist)\n",
        "    C = C_next"
      ],
      "execution_count": 20,
      "outputs": []
    },
    {
      "cell_type": "code",
      "metadata": {
        "id": "g2fP5To-88-D",
        "colab_type": "code",
        "colab": {
          "base_uri": "https://localhost:8080/",
          "height": 283
        },
        "outputId": "c5a0fb9a-db08-47c5-f0fd-fcfc50244122"
      },
      "source": [
        "sns.distplot(samples)"
      ],
      "execution_count": 21,
      "outputs": [
        {
          "output_type": "execute_result",
          "data": {
            "text/plain": [
              "<matplotlib.axes._subplots.AxesSubplot at 0x7fbe5b0b97f0>"
            ]
          },
          "metadata": {
            "tags": []
          },
          "execution_count": 21
        },
        {
          "output_type": "display_data",
          "data": {
            "image/png": "[encoded data removed]",
            "text/plain": [
              "<Figure size 432x288 with 1 Axes>"
            ]
          },
          "metadata": {
            "tags": [],
            "needs_background": "light"
          }
        }
      ]
    }
  ]
}